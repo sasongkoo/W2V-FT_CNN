{
 "cells": [
  {
   "cell_type": "code",
   "execution_count": 15,
   "id": "7c9acae8",
   "metadata": {},
   "outputs": [],
   "source": [
    "import pandas as pd\n",
    "import seaborn as sns\n",
    "import matplotlib.pyplot as plt\n",
    "import numpy as py"
   ]
  },
  {
   "cell_type": "code",
   "execution_count": 32,
   "id": "59e74c0e",
   "metadata": {
    "scrolled": true
   },
   "outputs": [
    {
     "data": {
      "text/html": [
       "<div>\n",
       "<style scoped>\n",
       "    .dataframe tbody tr th:only-of-type {\n",
       "        vertical-align: middle;\n",
       "    }\n",
       "\n",
       "    .dataframe tbody tr th {\n",
       "        vertical-align: top;\n",
       "    }\n",
       "\n",
       "    .dataframe thead th {\n",
       "        text-align: right;\n",
       "    }\n",
       "</style>\n",
       "<table border=\"1\" class=\"dataframe\">\n",
       "  <thead>\n",
       "    <tr style=\"text-align: right;\">\n",
       "      <th></th>\n",
       "      <th>Tweet_translated</th>\n",
       "      <th>Label</th>\n",
       "    </tr>\n",
       "  </thead>\n",
       "  <tbody>\n",
       "    <tr>\n",
       "      <th>0</th>\n",
       "      <td>Woy ini sinyal lu bapuk banget anjir @IndiHome</td>\n",
       "      <td>1</td>\n",
       "    </tr>\n",
       "    <tr>\n",
       "      <th>1</th>\n",
       "      <td>Parah sinyal wifi indihome gak jelas banget ma...</td>\n",
       "      <td>0</td>\n",
       "    </tr>\n",
       "    <tr>\n",
       "      <th>2</th>\n",
       "      <td>indihome kenapa ini? beberapa hari sinyal gw j...</td>\n",
       "      <td>0</td>\n",
       "    </tr>\n",
       "    <tr>\n",
       "      <th>3</th>\n",
       "      <td>@IndiHome sinyal jelek terus</td>\n",
       "      <td>0</td>\n",
       "    </tr>\n",
       "    <tr>\n",
       "      <th>4</th>\n",
       "      <td>@IndiHome sinyal WiFi nya koq gangguan ga ada ...</td>\n",
       "      <td>0</td>\n",
       "    </tr>\n",
       "    <tr>\n",
       "      <th>...</th>\n",
       "      <td>...</td>\n",
       "      <td>...</td>\n",
       "    </tr>\n",
       "    <tr>\n",
       "      <th>4161</th>\n",
       "      <td>@MPrasetyoN Kak Prasetyo, maaf ya bikin ga nya...</td>\n",
       "      <td>0</td>\n",
       "    </tr>\n",
       "    <tr>\n",
       "      <th>4162</th>\n",
       "      <td>sinyal lu jelek bgt si anj @IndiHome</td>\n",
       "      <td>0</td>\n",
       "    </tr>\n",
       "    <tr>\n",
       "      <th>4163</th>\n",
       "      <td>@meidinanm Hallo Meidina, maaf ya jadi bikin t...</td>\n",
       "      <td>0</td>\n",
       "    </tr>\n",
       "    <tr>\n",
       "      <th>4164</th>\n",
       "      <td>@firdaus72332200 Selamat siang Kak Firdaus, mo...</td>\n",
       "      <td>0</td>\n",
       "    </tr>\n",
       "    <tr>\n",
       "      <th>4165</th>\n",
       "      <td>@jiharkafm kalo gue begini apakah sinyal indih...</td>\n",
       "      <td>1</td>\n",
       "    </tr>\n",
       "  </tbody>\n",
       "</table>\n",
       "<p>4166 rows × 2 columns</p>\n",
       "</div>"
      ],
      "text/plain": [
       "                                       Tweet_translated  Label\n",
       "0        Woy ini sinyal lu bapuk banget anjir @IndiHome      1\n",
       "1     Parah sinyal wifi indihome gak jelas banget ma...      0\n",
       "2     indihome kenapa ini? beberapa hari sinyal gw j...      0\n",
       "3                          @IndiHome sinyal jelek terus      0\n",
       "4     @IndiHome sinyal WiFi nya koq gangguan ga ada ...      0\n",
       "...                                                 ...    ...\n",
       "4161  @MPrasetyoN Kak Prasetyo, maaf ya bikin ga nya...      0\n",
       "4162               sinyal lu jelek bgt si anj @IndiHome      0\n",
       "4163  @meidinanm Hallo Meidina, maaf ya jadi bikin t...      0\n",
       "4164  @firdaus72332200 Selamat siang Kak Firdaus, mo...      0\n",
       "4165  @jiharkafm kalo gue begini apakah sinyal indih...      1\n",
       "\n",
       "[4166 rows x 2 columns]"
      ]
     },
     "execution_count": 32,
     "metadata": {},
     "output_type": "execute_result"
    }
   ],
   "source": [
    "def load_data():\n",
    "    data = pd.read_csv('HASIL_LABELING_PANDEMI(FINAL).csv')\n",
    "    return data\n",
    "df = load_data()\n",
    "df"
   ]
  },
  {
   "cell_type": "code",
   "execution_count": 33,
   "id": "b0654738",
   "metadata": {},
   "outputs": [],
   "source": [
    "#x = atribut yg mempengaruhi label\n",
    "#y = label itu sendiri\n",
    "\n",
    "x = df.drop(['Label'],axis=1)\n",
    "y = df['Label']"
   ]
  },
  {
   "cell_type": "code",
   "execution_count": 34,
   "id": "9bdd08fa",
   "metadata": {},
   "outputs": [
    {
     "name": "stdout",
     "output_type": "stream",
     "text": [
      "(4166, 1)\n",
      "(4166,)\n"
     ]
    }
   ],
   "source": [
    "#sebelum balancing menggunakan SMOTE\n",
    "\n",
    "print(x.shape)\n",
    "print(y.shape)"
   ]
  },
  {
   "cell_type": "code",
   "execution_count": 35,
   "id": "2b2d4db7",
   "metadata": {},
   "outputs": [
    {
     "data": {
      "image/png": "[encoded data removed]",
      "text/plain": [
       "<Figure size 1080x576 with 1 Axes>"
      ]
     },
     "metadata": {
      "needs_background": "light"
     },
     "output_type": "display_data"
    }
   ],
   "source": [
    "fig,axes = plt.subplots(1,1,figsize=(15,8))\n",
    "sns.histplot(data=df,x='Label',ax=axes,color='skyblue')\n",
    "plt.show()"
   ]
  },
  {
   "cell_type": "code",
   "execution_count": 36,
   "id": "0f675be8",
   "metadata": {
    "scrolled": true
   },
   "outputs": [
    {
     "data": {
      "text/html": [
       "<div>\n",
       "<style scoped>\n",
       "    .dataframe tbody tr th:only-of-type {\n",
       "        vertical-align: middle;\n",
       "    }\n",
       "\n",
       "    .dataframe tbody tr th {\n",
       "        vertical-align: top;\n",
       "    }\n",
       "\n",
       "    .dataframe thead th {\n",
       "        text-align: right;\n",
       "    }\n",
       "</style>\n",
       "<table border=\"1\" class=\"dataframe\">\n",
       "  <thead>\n",
       "    <tr style=\"text-align: right;\">\n",
       "      <th></th>\n",
       "      <th>Tweet_translated</th>\n",
       "      <th>Label</th>\n",
       "    </tr>\n",
       "  </thead>\n",
       "  <tbody>\n",
       "    <tr>\n",
       "      <th>349</th>\n",
       "      <td>@ficofachriza_ Apapun itu, selalu mengandalkan...</td>\n",
       "      <td>1</td>\n",
       "    </tr>\n",
       "    <tr>\n",
       "      <th>3768</th>\n",
       "      <td>@ramadhan_dhicky Malam, Kak Ramadhan. Maaf jad...</td>\n",
       "      <td>1</td>\n",
       "    </tr>\n",
       "    <tr>\n",
       "      <th>3357</th>\n",
       "      <td>sinyal indihome berasa penting banget ya, ilan...</td>\n",
       "      <td>1</td>\n",
       "    </tr>\n",
       "    <tr>\n",
       "      <th>600</th>\n",
       "      <td>kayaknya indihome tuh gamau aku presentasi deh...</td>\n",
       "      <td>0</td>\n",
       "    </tr>\n",
       "    <tr>\n",
       "      <th>1920</th>\n",
       "      <td>@anvrvl @habibaahnurull @simPATI @IndiHome Hai...</td>\n",
       "      <td>0</td>\n",
       "    </tr>\n",
       "  </tbody>\n",
       "</table>\n",
       "</div>"
      ],
      "text/plain": [
       "                                       Tweet_translated  Label\n",
       "349   @ficofachriza_ Apapun itu, selalu mengandalkan...      1\n",
       "3768  @ramadhan_dhicky Malam, Kak Ramadhan. Maaf jad...      1\n",
       "3357  sinyal indihome berasa penting banget ya, ilan...      1\n",
       "600   kayaknya indihome tuh gamau aku presentasi deh...      0\n",
       "1920  @anvrvl @habibaahnurull @simPATI @IndiHome Hai...      0"
      ]
     },
     "execution_count": 36,
     "metadata": {},
     "output_type": "execute_result"
    }
   ],
   "source": [
    "df = df.groupby(\"Label\").sample(n=2500, random_state=42, replace=True)\n",
    "df['Label'].value_counts()\n",
    "df = df.sample(frac=1)\n",
    "df.head()"
   ]
  },
  {
   "cell_type": "code",
   "execution_count": 37,
   "id": "1a1081cf",
   "metadata": {},
   "outputs": [
    {
     "name": "stdout",
     "output_type": "stream",
     "text": [
      "5000\n"
     ]
    },
    {
     "data": {
      "image/png": "[encoded data removed]",
      "text/plain": [
       "<Figure size 432x288 with 1 Axes>"
      ]
     },
     "metadata": {
      "needs_background": "light"
     },
     "output_type": "display_data"
    }
   ],
   "source": [
    "s = pd.value_counts(df['Label'])\n",
    "ax = s.plot.bar()\n",
    "n = len(df.index)\n",
    "print(n)\n",
    "for p in ax.patches:\n",
    "    ax.annotate(str(round(p.get_height() / n * 100, 2)) + '%', (p.get_x() * 1.005, p.get_height() * 1.005))"
   ]
  },
  {
   "cell_type": "code",
   "execution_count": 38,
   "id": "480b8a72",
   "metadata": {
    "scrolled": true
   },
   "outputs": [
    {
     "data": {
      "text/html": [
       "<div>\n",
       "<style scoped>\n",
       "    .dataframe tbody tr th:only-of-type {\n",
       "        vertical-align: middle;\n",
       "    }\n",
       "\n",
       "    .dataframe tbody tr th {\n",
       "        vertical-align: top;\n",
       "    }\n",
       "\n",
       "    .dataframe thead th {\n",
       "        text-align: right;\n",
       "    }\n",
       "</style>\n",
       "<table border=\"1\" class=\"dataframe\">\n",
       "  <thead>\n",
       "    <tr style=\"text-align: right;\">\n",
       "      <th></th>\n",
       "      <th>Tweet_translated</th>\n",
       "      <th>Label</th>\n",
       "    </tr>\n",
       "  </thead>\n",
       "  <tbody>\n",
       "    <tr>\n",
       "      <th>349</th>\n",
       "      <td>@ficofachriza_ Apapun itu, selalu mengandalkan...</td>\n",
       "      <td>1</td>\n",
       "    </tr>\n",
       "    <tr>\n",
       "      <th>3768</th>\n",
       "      <td>@ramadhan_dhicky Malam, Kak Ramadhan. Maaf jad...</td>\n",
       "      <td>1</td>\n",
       "    </tr>\n",
       "    <tr>\n",
       "      <th>3357</th>\n",
       "      <td>sinyal indihome berasa penting banget ya, ilan...</td>\n",
       "      <td>1</td>\n",
       "    </tr>\n",
       "    <tr>\n",
       "      <th>600</th>\n",
       "      <td>kayaknya indihome tuh gamau aku presentasi deh...</td>\n",
       "      <td>0</td>\n",
       "    </tr>\n",
       "    <tr>\n",
       "      <th>1920</th>\n",
       "      <td>@anvrvl @habibaahnurull @simPATI @IndiHome Hai...</td>\n",
       "      <td>0</td>\n",
       "    </tr>\n",
       "    <tr>\n",
       "      <th>...</th>\n",
       "      <td>...</td>\n",
       "      <td>...</td>\n",
       "    </tr>\n",
       "    <tr>\n",
       "      <th>2594</th>\n",
       "      <td>@selenophileaj @lveyss Sore Kak Seleno, maaf j...</td>\n",
       "      <td>1</td>\n",
       "    </tr>\n",
       "    <tr>\n",
       "      <th>1439</th>\n",
       "      <td>@fiqooh @zz04595401 Hai Sobat, maaf jadi gak n...</td>\n",
       "      <td>0</td>\n",
       "    </tr>\n",
       "    <tr>\n",
       "      <th>1740</th>\n",
       "      <td>@ahmadfirdaus1st Malam Kak Firdaus, Raden bant...</td>\n",
       "      <td>1</td>\n",
       "    </tr>\n",
       "    <tr>\n",
       "      <th>698</th>\n",
       "      <td>indosat        indihome\\n              ðŸ¤\\n ...</td>\n",
       "      <td>0</td>\n",
       "    </tr>\n",
       "    <tr>\n",
       "      <th>521</th>\n",
       "      <td>@IndiHome tolong banget sinyal wifinya dibener...</td>\n",
       "      <td>1</td>\n",
       "    </tr>\n",
       "  </tbody>\n",
       "</table>\n",
       "<p>5000 rows × 2 columns</p>\n",
       "</div>"
      ],
      "text/plain": [
       "                                       Tweet_translated  Label\n",
       "349   @ficofachriza_ Apapun itu, selalu mengandalkan...      1\n",
       "3768  @ramadhan_dhicky Malam, Kak Ramadhan. Maaf jad...      1\n",
       "3357  sinyal indihome berasa penting banget ya, ilan...      1\n",
       "600   kayaknya indihome tuh gamau aku presentasi deh...      0\n",
       "1920  @anvrvl @habibaahnurull @simPATI @IndiHome Hai...      0\n",
       "...                                                 ...    ...\n",
       "2594  @selenophileaj @lveyss Sore Kak Seleno, maaf j...      1\n",
       "1439  @fiqooh @zz04595401 Hai Sobat, maaf jadi gak n...      0\n",
       "1740  @ahmadfirdaus1st Malam Kak Firdaus, Raden bant...      1\n",
       "698   indosat        indihome\\n              ðŸ¤\\n ...      0\n",
       "521   @IndiHome tolong banget sinyal wifinya dibener...      1\n",
       "\n",
       "[5000 rows x 2 columns]"
      ]
     },
     "execution_count": 38,
     "metadata": {},
     "output_type": "execute_result"
    }
   ],
   "source": [
    "df"
   ]
  },
  {
   "cell_type": "code",
   "execution_count": 39,
   "id": "d84e0a54",
   "metadata": {},
   "outputs": [],
   "source": [
    "df.to_csv('DATA_LABELING_INDIHOME_PANDEMI_BALANCING.csv',encoding='utf8', index=False)"
   ]
  }
 ],
 "metadata": {
  "kernelspec": {
   "display_name": "Python 3 (ipykernel)",
   "language": "python",
   "name": "python3"
  },
  "language_info": {
   "codemirror_mode": {
    "name": "ipython",
    "version": 3
   },
   "file_extension": ".py",
   "mimetype": "text/x-python",
   "name": "python",
   "nbconvert_exporter": "python",
   "pygments_lexer": "ipython3",
   "version": "3.9.7"
  }
 },
 "nbformat": 4,
 "nbformat_minor": 5
}
